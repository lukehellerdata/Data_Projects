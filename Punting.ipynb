{
 "cells": [
  {
   "cell_type": "code",
   "execution_count": null,
   "id": "8b476b02",
   "metadata": {},
   "outputs": [],
   "source": [
    "import pandas as pd\n",
    "import numpy as np\n",
    "import nfl_data_py as nfl\n",
    "import statsmodels.formula.api as smf\n",
    "import matplotlib.pyplot as plt\n",
    "import seaborn as sns\n",
    "\n",
    "seasons = range(2016, 2024+1)\n",
    "pbp_py = nfl.import_pbp_data(seasons)"
   ]
  },
  {
   "cell_type": "code",
   "execution_count": null,
   "id": "5d0dbb76",
   "metadata": {},
   "outputs": [],
   "source": [
    "punt_plays =\\\n",
    "    pbp_py\\\n",
    "  .query(\"season in [2024] & play_type == 'punt' \")\\\n",
    "    .reset_index()\n",
    "\n",
    "punt_counts =\\\n",
    "    punt_plays\\\n",
    "    .groupby('punter_player_name')\\\n",
    "    .agg({'play_id': 'nunique'})\n",
    "\n",
    "punt_counts.columns =\\\n",
    "    list(map(\"_\".join, punt_counts.columns))\n",
    "punt_counts.reset_index(inplace = True)\n",
    "\n",
    "punt_counts.rename(columns={\n",
    "        'play_id_nunique': 'count'\n",
    "})\n",
    "\n",
    "print(punt_counts)"
   ]
  },
  {
   "cell_type": "code",
   "execution_count": null,
   "id": "43f15238",
   "metadata": {},
   "outputs": [],
   "source": [
    "punt_plays.head()"
   ]
  },
  {
   "cell_type": "code",
   "execution_count": null,
   "id": "39d23365",
   "metadata": {},
   "outputs": [],
   "source": [
    "punt_plays = (\n",
    "    pbp_py\n",
    "    .query(\"season in [2024] & play_type == 'punt'\")\n",
    "    .reset_index()\n",
    ")\n",
    "\n",
    "punt_counts = (\n",
    "    punt_plays\n",
    "    .groupby('punter_player_name')\n",
    "    .agg(count=('play_id', 'nunique'))\n",
    "    .reset_index()\n",
    ")\n",
    "\n",
    "print(punt_counts)"
   ]
  },
  {
   "cell_type": "code",
   "execution_count": null,
   "id": "8d79042d",
   "metadata": {},
   "outputs": [],
   "source": [
    "fig, ax = plt.subplots(figsize=(10, 20))\n",
    "punt_counts_sorted = punt_counts.sort_values(by = 'count', ascending = True)\n",
    "plt.barh(punt_counts_sorted['punter_player_name'], punt_counts_sorted['count'], align = 'center')\n",
    "\n",
    "\n",
    "plt.show()"
   ]
  },
  {
   "cell_type": "code",
   "execution_count": null,
   "id": "5bc992db",
   "metadata": {},
   "outputs": [],
   "source": [
    "punt_plays = (\n",
    "    pbp_py\n",
    "    .query(\"season in [2024] & play_type == 'punt'\")\n",
    "    .reset_index()\n",
    ")\n",
    "\n",
    "punt_counts = (\n",
    "    punt_plays\n",
    "    .groupby('punter_player_name')\n",
    "    .agg({'play_id': 'nunique'})\n",
    "    .reset_index()\n",
    ")\n",
    "\n",
    "punt_counts.rename(columns = {'play_id': 'count'}, inplace = True)\n",
    "punt_counts.sort_values( by = 'count', ascending = False, inplace = True)\n",
    "\n",
    "print(punt_counts.reset_index(drop = True))"
   ]
  }
 ],
 "metadata": {
  "kernelspec": {
   "display_name": "Python 3 (ipykernel)",
   "language": "python",
   "name": "python3"
  },
  "language_info": {
   "codemirror_mode": {
    "name": "ipython",
    "version": 3
   },
   "file_extension": ".py",
   "mimetype": "text/x-python",
   "name": "python",
   "nbconvert_exporter": "python",
   "pygments_lexer": "ipython3",
   "version": "3.9.13"
  }
 },
 "nbformat": 4,
 "nbformat_minor": 5
}
